{
 "cells": [
  {
   "cell_type": "code",
   "execution_count": 2,
   "metadata": {},
   "outputs": [],
   "source": [
    "import pandas as pd\n",
    "import numpy as np"
   ]
  },
  {
   "cell_type": "code",
   "execution_count": 8,
   "metadata": {},
   "outputs": [],
   "source": [
    "fulldf = pd.read_csv(\"data/210108test.csv\", index_col=0)"
   ]
  },
  {
   "cell_type": "code",
   "execution_count": 12,
   "metadata": {},
   "outputs": [
    {
     "name": "stdout",
     "output_type": "stream",
     "text": [
      "<class 'pandas.core.frame.DataFrame'>\n",
      "Int64Index: 245 entries, 0 to 244\n",
      "Data columns (total 11 columns):\n",
      " #   Column       Non-Null Count  Dtype \n",
      "---  ------       --------------  ----- \n",
      " 0   topic_id     245 non-null    int64 \n",
      " 1   thread_type  245 non-null    object\n",
      " 2   code         127 non-null    object\n",
      " 3   name         127 non-null    object\n",
      " 4   creator      245 non-null    object\n",
      " 5   creator_id   245 non-null    int64 \n",
      " 6   views        245 non-null    int64 \n",
      " 7   replies      245 non-null    int64 \n",
      " 8   board        245 non-null    int64 \n",
      " 9   access_date  245 non-null    object\n",
      " 10  title        245 non-null    object\n",
      "dtypes: int64(5), object(6)\n",
      "memory usage: 31.1+ KB\n"
     ]
    }
   ],
   "source": [
    "fulldf.info()"
   ]
  },
  {
   "cell_type": "code",
   "execution_count": 11,
   "metadata": {},
   "outputs": [
    {
     "data": {
      "text/html": [
       "<div>\n",
       "<style scoped>\n",
       "    .dataframe tbody tr th:only-of-type {\n",
       "        vertical-align: middle;\n",
       "    }\n",
       "\n",
       "    .dataframe tbody tr th {\n",
       "        vertical-align: top;\n",
       "    }\n",
       "\n",
       "    .dataframe thead th {\n",
       "        text-align: right;\n",
       "    }\n",
       "</style>\n",
       "<table border=\"1\" class=\"dataframe\">\n",
       "  <thead>\n",
       "    <tr style=\"text-align: right;\">\n",
       "      <th></th>\n",
       "      <th>topic_id</th>\n",
       "      <th>thread_type</th>\n",
       "      <th>code</th>\n",
       "      <th>name</th>\n",
       "      <th>creator</th>\n",
       "      <th>creator_id</th>\n",
       "      <th>views</th>\n",
       "      <th>replies</th>\n",
       "      <th>board</th>\n",
       "      <th>access_date</th>\n",
       "      <th>title</th>\n",
       "    </tr>\n",
       "  </thead>\n",
       "  <tbody>\n",
       "    <tr>\n",
       "      <th>0</th>\n",
       "      <td>109034</td>\n",
       "      <td>GB</td>\n",
       "      <td>ePBT</td>\n",
       "      <td>Skadi</td>\n",
       "      <td>Sifo</td>\n",
       "      <td>14303</td>\n",
       "      <td>10269</td>\n",
       "      <td>34</td>\n",
       "      <td>70</td>\n",
       "      <td>2021-01-08 18:01:41</td>\n",
       "      <td>[GB] ePBT Skadi - CLOSED - Awaiting samples</td>\n",
       "    </tr>\n",
       "    <tr>\n",
       "      <th>3</th>\n",
       "      <td>104954</td>\n",
       "      <td>unknown</td>\n",
       "      <td>GMK</td>\n",
       "      <td>BOTANICAL</td>\n",
       "      <td>Hazzy</td>\n",
       "      <td>83470</td>\n",
       "      <td>61457</td>\n",
       "      <td>116</td>\n",
       "      <td>70</td>\n",
       "      <td>2021-01-08 18:01:41</td>\n",
       "      <td>GMK BOTANICAL - Colour Matching Complete! Samp...</td>\n",
       "    </tr>\n",
       "    <tr>\n",
       "      <th>4</th>\n",
       "      <td>95256</td>\n",
       "      <td>GB</td>\n",
       "      <td>GMK</td>\n",
       "      <td>Violet Tendencies</td>\n",
       "      <td>Voxicles</td>\n",
       "      <td>63934</td>\n",
       "      <td>38547</td>\n",
       "      <td>282</td>\n",
       "      <td>70</td>\n",
       "      <td>2021-01-08 18:01:41</td>\n",
       "      <td>[GB] GMK Violet Tendencies - Extras at Dixiemech!</td>\n",
       "    </tr>\n",
       "    <tr>\n",
       "      <th>6</th>\n",
       "      <td>110579</td>\n",
       "      <td>GB</td>\n",
       "      <td>GMK</td>\n",
       "      <td>Iconographic</td>\n",
       "      <td>Lil</td>\n",
       "      <td>79015</td>\n",
       "      <td>913</td>\n",
       "      <td>3</td>\n",
       "      <td>70</td>\n",
       "      <td>2021-01-08 18:01:41</td>\n",
       "      <td>[GB] GMK Iconographic - GB Live! [January 8th ...</td>\n",
       "    </tr>\n",
       "    <tr>\n",
       "      <th>7</th>\n",
       "      <td>103449</td>\n",
       "      <td>CLOSED</td>\n",
       "      <td>SP</td>\n",
       "      <td>-111</td>\n",
       "      <td>BlindAssassin111</td>\n",
       "      <td>26415</td>\n",
       "      <td>61150</td>\n",
       "      <td>136</td>\n",
       "      <td>70</td>\n",
       "      <td>2021-01-08 18:01:41</td>\n",
       "      <td>[CLOSED] SP-111 - Split Southpaw Keyboard</td>\n",
       "    </tr>\n",
       "  </tbody>\n",
       "</table>\n",
       "</div>"
      ],
      "text/plain": [
       "   topic_id thread_type  code               name           creator  \\\n",
       "0    109034          GB  ePBT              Skadi              Sifo   \n",
       "3    104954     unknown   GMK          BOTANICAL             Hazzy   \n",
       "4     95256          GB   GMK  Violet Tendencies          Voxicles   \n",
       "6    110579          GB   GMK       Iconographic               Lil   \n",
       "7    103449      CLOSED    SP               -111  BlindAssassin111   \n",
       "\n",
       "   creator_id  views  replies  board          access_date  \\\n",
       "0       14303  10269       34     70  2021-01-08 18:01:41   \n",
       "3       83470  61457      116     70  2021-01-08 18:01:41   \n",
       "4       63934  38547      282     70  2021-01-08 18:01:41   \n",
       "6       79015    913        3     70  2021-01-08 18:01:41   \n",
       "7       26415  61150      136     70  2021-01-08 18:01:41   \n",
       "\n",
       "                                               title  \n",
       "0        [GB] ePBT Skadi - CLOSED - Awaiting samples  \n",
       "3  GMK BOTANICAL - Colour Matching Complete! Samp...  \n",
       "4  [GB] GMK Violet Tendencies - Extras at Dixiemech!  \n",
       "6  [GB] GMK Iconographic - GB Live! [January 8th ...  \n",
       "7          [CLOSED] SP-111 - Split Southpaw Keyboard  "
      ]
     },
     "execution_count": 11,
     "metadata": {},
     "output_type": "execute_result"
    }
   ],
   "source": [
    "capdf = fulldf.loc[fulldf['name'].notna()]\n",
    "capdf.head()"
   ]
  },
  {
   "cell_type": "code",
   "execution_count": 16,
   "metadata": {},
   "outputs": [
    {
     "data": {
      "text/plain": [
       "GMK          84\n",
       "KAT          16\n",
       "SA            7\n",
       "KAM           4\n",
       "JTK           3\n",
       "ePBT          2\n",
       "SP            2\n",
       "MelGeek       1\n",
       "gmk           1\n",
       "Infinikey     1\n",
       "Enjoypbt      1\n",
       "XDA           1\n",
       "HSA           1\n",
       "CRP           1\n",
       "IFK           1\n",
       "EPBT          1\n",
       "Name: code, dtype: int64"
      ]
     },
     "execution_count": 16,
     "metadata": {},
     "output_type": "execute_result"
    }
   ],
   "source": [
    "capdf['code'].value_counts()"
   ]
  },
  {
   "cell_type": "code",
   "execution_count": 18,
   "metadata": {},
   "outputs": [
    {
     "data": {
      "text/plain": [
       "array(['Skadi', 'BOTANICAL', 'Violet Tendencies', 'Iconographic', '-111',\n",
       "       'Aurora Polaris', 'Lux', 'Perestroika', 'Alpine', 'White on Black',\n",
       "       'Polybius', 'SAIL', 'Baltic and Gateron x Baltic Ink v2 switch',\n",
       "       'Atlantis', 'Shanshui 山水', 'Apollo', 'Hanami Dango', 'Stealth',\n",
       "       'Serika', 'PBT Islander', 'Modern Dolch Light', 'Awaken', 'Cojiro',\n",
       "       'Crusader', '80s', 'Wraith', 'Taegeukgi', 'Yuru',\n",
       "       'Skyriter Keycap Set', 'Avanguardia',\n",
       "       'Classic FC tripleshot hiragana', 'Ashes', 'Future', 'Taro R2',\n",
       "       'HYPERFUSE', 'Dracula', 'Thai Tea',\n",
       "       \"'紺桃KON MOMO' Japanese keycaps\", 'Handarbeit+', 'Noel', 'Copper',\n",
       "       'Lucky Jade', 'Grand Prix', 'First Love', 'Bingsu', 'Yugo',\n",
       "       'ThinkCaps', 'Gregory', 'Oblique', 'Mudbeam', 'Pink on Navy',\n",
       "       'Crimson Cadet', 'Korean Beige Add-on Kit', 'Dolch R5', '80082',\n",
       "       'Cool', 'Missing Keys', 'Metaverse 2', 'Blanks', 'Modern Dolch 2',\n",
       "       '️🅱️', 'Eternal', 'Ishtar', 'Masterpiece', 'Recall', 'Space Cadet',\n",
       "       'Lunar 🚀 — All Kits Will Be Made', 'Sculpted Bliss', 'Rudy',\n",
       "       'Moon Dust', 'Cyberspace', 'Phantom', 'Arcane', 'Explosion',\n",
       "       'Iron', 'DMG', 'Specimen', 'Bleached', 'Lich', 'Napoleonic',\n",
       "       'Little Pilot', 'Sumi', 'Deku', 'Nuclear', 'Amethyst', 'Ghost',\n",
       "       'Griseann/Royal Alpha', 'WoB/BoW Icon extension kit',\n",
       "       'WoB & BoW Hangul Add-On Kits', 'HALLYU 한류', 'Retro', 'Noire',\n",
       "       'Yuri R2', 'Finer Things', '『ａｎａｌｏｇｄｒｅａｍｓ』Shipping', 'Minimal',\n",
       "       'Ursa', 'Re: [GB]  Firefly', 'WoB 40s', 'Fundamentals', 'Honey',\n",
       "       'Pono', 'Oasis', 'Zhuyin', 'Burgundy Round 3', 'Hero',\n",
       "       'Space Cadet II', 'Classic Retro Cyrillic', 'SA CARBON R3', 'Nord',\n",
       "       'Monochrome', 'Nautilus', 'Pride', 'Honor', 'BLINK',\n",
       "       'Red & Blue Samurai', 'Dasher and Dancer', 'Dark Cyrillic is live',\n",
       "       'MDA', 'Comet', 'Milkshake', 'Deep Navy', 'Azure', 'Olivia++',\n",
       "       'C64', 'Shark Bait', 'Dark'], dtype=object)"
      ]
     },
     "execution_count": 18,
     "metadata": {},
     "output_type": "execute_result"
    }
   ],
   "source": [
    "capdf['name'].unique()"
   ]
  },
  {
   "cell_type": "code",
   "execution_count": 23,
   "metadata": {},
   "outputs": [
    {
     "data": {
      "text/html": [
       "<div>\n",
       "<style scoped>\n",
       "    .dataframe tbody tr th:only-of-type {\n",
       "        vertical-align: middle;\n",
       "    }\n",
       "\n",
       "    .dataframe tbody tr th {\n",
       "        vertical-align: top;\n",
       "    }\n",
       "\n",
       "    .dataframe thead th {\n",
       "        text-align: right;\n",
       "    }\n",
       "</style>\n",
       "<table border=\"1\" class=\"dataframe\">\n",
       "  <thead>\n",
       "    <tr style=\"text-align: right;\">\n",
       "      <th></th>\n",
       "      <th>topic_id</th>\n",
       "      <th>thread_type</th>\n",
       "      <th>code</th>\n",
       "      <th>name</th>\n",
       "      <th>creator</th>\n",
       "      <th>creator_id</th>\n",
       "      <th>views</th>\n",
       "      <th>replies</th>\n",
       "      <th>board</th>\n",
       "      <th>access_date</th>\n",
       "      <th>title</th>\n",
       "    </tr>\n",
       "  </thead>\n",
       "  <tbody>\n",
       "    <tr>\n",
       "      <th>27</th>\n",
       "      <td>106411</td>\n",
       "      <td>GB</td>\n",
       "      <td>Infinikey</td>\n",
       "      <td>PBT Islander</td>\n",
       "      <td>Abec13</td>\n",
       "      <td>72745</td>\n",
       "      <td>30884</td>\n",
       "      <td>65</td>\n",
       "      <td>70</td>\n",
       "      <td>2021-01-08 18:01:41</td>\n",
       "      <td>[GB] Infinikey PBT Islander: May 15-29</td>\n",
       "    </tr>\n",
       "  </tbody>\n",
       "</table>\n",
       "</div>"
      ],
      "text/plain": [
       "    topic_id thread_type       code          name creator  creator_id  views  \\\n",
       "27    106411          GB  Infinikey  PBT Islander  Abec13       72745  30884   \n",
       "\n",
       "    replies  board          access_date  \\\n",
       "27       65     70  2021-01-08 18:01:41   \n",
       "\n",
       "                                     title  \n",
       "27  [GB] Infinikey PBT Islander: May 15-29  "
      ]
     },
     "execution_count": 23,
     "metadata": {},
     "output_type": "execute_result"
    }
   ],
   "source": [
    "capdf.loc[capdf['name'] == 'PBT Islander']"
   ]
  },
  {
   "cell_type": "code",
   "execution_count": 26,
   "metadata": {},
   "outputs": [
    {
     "data": {
      "text/plain": [
       "biip              5\n",
       "Oblotzky          3\n",
       "GarrettSucks      3\n",
       "pwade3            3\n",
       "Zambumon          3\n",
       "Tyson             3\n",
       "Emir              2\n",
       "NathanAlphaMan    2\n",
       "Rensuya           2\n",
       "botallu           2\n",
       "Name: creator, dtype: int64"
      ]
     },
     "execution_count": 26,
     "metadata": {},
     "output_type": "execute_result"
    }
   ],
   "source": [
    "capdf['creator'].value_counts().head(10)"
   ]
  }
 ],
 "metadata": {
  "kernelspec": {
   "display_name": "mech_env",
   "language": "python",
   "name": "mech_env"
  },
  "language_info": {
   "codemirror_mode": {
    "name": "ipython",
    "version": 3
   },
   "file_extension": ".py",
   "mimetype": "text/x-python",
   "name": "python",
   "nbconvert_exporter": "python",
   "pygments_lexer": "ipython3",
   "version": "3.8.5"
  }
 },
 "nbformat": 4,
 "nbformat_minor": 4
}
